{
 "cells": [
  {
   "cell_type": "code",
   "execution_count": 1,
   "id": "7ec69fbc",
   "metadata": {},
   "outputs": [],
   "source": [
    "import pandas as pd\n",
    "import numpy as np"
   ]
  },
  {
   "cell_type": "code",
   "execution_count": null,
   "id": "afea0dda",
   "metadata": {},
   "outputs": [],
   "source": [
    "df.pd.read_me('draft.csv')"
   ]
  },
  {
   "cell_type": "markdown",
   "id": "4eab0834",
   "metadata": {},
   "source": [
    "Reviewing the data set you sort by team in the same year."
   ]
  },
  {
   "cell_type": "markdown",
   "id": "091883dc",
   "metadata": {},
   "source": [
    "Sort players by colleges/univerities attended."
   ]
  },
  {
   "cell_type": "markdown",
   "id": "e09d8a47",
   "metadata": {},
   "source": [
    "Sort for the average yeards by player, or team, or year."
   ]
  },
  {
   "cell_type": "markdown",
   "id": "bf738b7e",
   "metadata": {},
   "source": [
    "Sort to find the most interceptions by season, or team."
   ]
  },
  {
   "cell_type": "markdown",
   "id": "7b38f2b0",
   "metadata": {},
   "source": [
    "Sort to find the mean, median, mode of ages of players in their careers."
   ]
  },
  {
   "cell_type": "code",
   "execution_count": null,
   "id": "e234da6c",
   "metadata": {},
   "outputs": [],
   "source": []
  }
 ],
 "metadata": {
  "kernelspec": {
   "display_name": "Python 3 (ipykernel)",
   "language": "python",
   "name": "python3"
  },
  "language_info": {
   "codemirror_mode": {
    "name": "ipython",
    "version": 3
   },
   "file_extension": ".py",
   "mimetype": "text/x-python",
   "name": "python",
   "nbconvert_exporter": "python",
   "pygments_lexer": "ipython3",
   "version": "3.10.2"
  }
 },
 "nbformat": 4,
 "nbformat_minor": 5
}
